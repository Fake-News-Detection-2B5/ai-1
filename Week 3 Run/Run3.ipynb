{
  "nbformat": 4,
  "nbformat_minor": 0,
  "metadata": {
    "colab": {
      "name": "Run3.ipynb",
      "provenance": [],
      "collapsed_sections": [
        "v9YN2sjX5Vvk",
        "Psjbai575YA9"
      ],
      "toc_visible": true
    },
    "kernelspec": {
      "name": "python3",
      "display_name": "Python 3"
    },
    "language_info": {
      "name": "python"
    }
  },
  "cells": [
    {
      "cell_type": "markdown",
      "metadata": {
        "id": "v9YN2sjX5Vvk"
      },
      "source": [
        "# Imports and Downloads"
      ]
    },
    {
      "cell_type": "code",
      "metadata": {
        "id": "Osdf3g370Y5a"
      },
      "source": [
        "import re\n",
        "import nltk\n",
        "import spacy\n",
        "import string\n",
        "import itertools\n",
        "import numpy as np\n",
        "import pandas as pd\n",
        "from empath import Empath\n",
        "import scipy.sparse as sp\n",
        "from sklearn import metrics\n",
        "import matplotlib.pyplot as plt\n",
        "from nltk.corpus import stopwords\n",
        "from nltk.stem import WordNetLemmatizer\n",
        "from sklearn.metrics import confusion_matrix\n",
        "from sklearn.naive_bayes import MultinomialNB\n",
        "from sklearn.metrics import classification_report\n",
        "from sklearn.feature_extraction.text import TfidfVectorizer\n",
        "from sklearn.linear_model import PassiveAggressiveClassifier\n",
        "from sklearn.model_selection import train_test_split\n",
        "from sklearn.ensemble import RandomForestClassifier, GradientBoostingClassifier"
      ],
      "execution_count": null,
      "outputs": []
    },
    {
      "cell_type": "code",
      "metadata": {
        "id": "eCV3WaLR0irL"
      },
      "source": [
        "nltk.download('stopwords')\n",
        "nltk.download('wordnet')\n",
        "nltk.download('words')\n",
        "!pip install empath"
      ],
      "execution_count": null,
      "outputs": []
    },
    {
      "cell_type": "markdown",
      "metadata": {
        "id": "5Tmvj4YP5fp3"
      },
      "source": [
        "# Import Dataset"
      ]
    },
    {
      "cell_type": "code",
      "metadata": {
        "id": "WR6Sx72Q5lNm"
      },
      "source": [
        "sample = pd.read_csv(\"sample.tsv\", delimiter='\\t', encoding='utf-8')\n",
        "\n",
        "print(sample.shape)\n",
        "print(sample.columns)\n",
        "sample.head()"
      ],
      "execution_count": null,
      "outputs": []
    },
    {
      "cell_type": "code",
      "metadata": {
        "id": "liVe-lx_616N"
      },
      "source": [
        "sample.loc[sample['our rating'] == 'true', 'our rating'] = 'TRUE'\n",
        "sample.loc[sample['our rating'] == 'false', 'our rating'] = 'FALSE'\n",
        "sample.loc[sample['our rating'] == 'partially false', 'our rating'] = 'PARTIALLY FALSE'\n",
        "sample.loc[sample['our rating'] == 'other', 'our rating'] = 'OTHER'\n",
        "sample.drop(['public_id'], axis = 1, inplace = True)\n",
        "sample.head()"
      ],
      "execution_count": null,
      "outputs": []
    },
    {
      "cell_type": "markdown",
      "metadata": {
        "id": "u0wnbQHk7y_X"
      },
      "source": [
        "# Combine the Datasets"
      ]
    },
    {
      "cell_type": "code",
      "metadata": {
        "id": "6Qmz2h6B74rE"
      },
      "source": [
        "sample['text'] = sample['title'] + \" \" + sample['text']\n",
        "\n",
        "sample.drop(['title'], axis = 1, inplace = True)\n",
        "\n",
        "print(sample['text'][0])"
      ],
      "execution_count": null,
      "outputs": []
    },
    {
      "cell_type": "markdown",
      "metadata": {
        "id": "MBCpNyg7-bou"
      },
      "source": [
        "# Data Exploration"
      ]
    },
    {
      "cell_type": "code",
      "metadata": {
        "id": "4QL_fp3J-hjx"
      },
      "source": [
        "sample['our rating'].value_counts()\n",
        "sample['our rating'].value_counts().plot(kind = 'bar')"
      ],
      "execution_count": null,
      "outputs": []
    },
    {
      "cell_type": "markdown",
      "metadata": {
        "id": "sXatsmr0vKbO"
      },
      "source": [
        "# Data Preparation"
      ]
    },
    {
      "cell_type": "code",
      "metadata": {
        "id": "b7uG05ff_Wtt"
      },
      "source": [
        "def clean_text(text):\n",
        "  text = re.sub('['+string.punctuation+']','', text)\n",
        "  text = re.sub(r\"[-()\\\"#/@’;:<>{}`+=~|.!?,]\", '', text)\n",
        "  text = text.lower().split()\n",
        "\n",
        "  stops = set(stopwords.words(\"english\"))\n",
        "  text = [w for w in text if w not in stops]\n",
        "  text = \" \".join(text)\n",
        "  \n",
        "  text = re.sub(r'[^a-zA-Z\\s]', u'', text, flags=re.UNICODE)\n",
        "  \n",
        "  text = text.split()\n",
        "  l = WordNetLemmatizer()\n",
        "  lemmatized_words = [l.lemmatize(word) for word in text]\n",
        "  text = \" \".join(lemmatized_words)\n",
        "    \n",
        "  return text\n",
        "\n",
        "def plot_confusion_matrix(cm, classes, normalize=False, title='Confusion matrix', cmap=plt.cm.Blues):\n",
        "    plt.imshow(cm, interpolation='nearest', cmap=cmap)\n",
        "    plt.title(title)\n",
        "    plt.colorbar()\n",
        "    tick_marks = np.arange(len(classes))\n",
        "    plt.xticks(tick_marks, classes, rotation=0)\n",
        "    plt.yticks(tick_marks, classes)\n",
        "\n",
        "    thresh = cm.max() / 2.\n",
        "    for i, j in itertools.product(range(cm.shape[0]), range(cm.shape[1])):\n",
        "        plt.text(j, i, cm[i, j],\n",
        "                 horizontalalignment=\"center\",\n",
        "                 color=\"white\" if cm[i, j] > thresh else \"black\")\n",
        "\n",
        "    plt.tight_layout()\n",
        "    plt.ylabel('Actual label')\n",
        "    plt.xlabel('Predicted label')\n",
        "    plt.tight_layout()\n",
        "    plt.show()"
      ],
      "execution_count": null,
      "outputs": []
    },
    {
      "cell_type": "code",
      "metadata": {
        "id": "PzxeIMC_AhsV"
      },
      "source": [
        "sample['clean_text'] = sample['text'].apply(lambda x: clean_text(x))\n",
        "sample.head()"
      ],
      "execution_count": null,
      "outputs": []
    },
    {
      "cell_type": "markdown",
      "metadata": {
        "id": "Xp4SpNvTBId9"
      },
      "source": [
        "# Cleaned Text: Splitting into training and testing"
      ]
    },
    {
      "cell_type": "code",
      "metadata": {
        "id": "pQNQXXnwBMEW"
      },
      "source": [
        "y = sample['our rating'].astype('str') \n",
        "X_train, X_test, y_train, y_test = train_test_split(sample['clean_text'], y, test_size = 0.2, random_state = 42)\n",
        "\n",
        "print(X_train.head())\n",
        "print()\n",
        "print(y_train.head())"
      ],
      "execution_count": null,
      "outputs": []
    },
    {
      "cell_type": "markdown",
      "metadata": {
        "id": "9JzfWco1B07s"
      },
      "source": [
        "#TFIDF Vectorization"
      ]
    },
    {
      "cell_type": "code",
      "metadata": {
        "id": "6Get5SreB34B"
      },
      "source": [
        "tfidf_vectorizer = TfidfVectorizer(stop_words='english', ngram_range = (2, 2))\n",
        "\n",
        "tfidf_train = tfidf_vectorizer.fit_transform(X_train)\n",
        "\n",
        "tfidf_test = tfidf_vectorizer.transform(X_test)\n",
        "\n",
        "print(tfidf_vectorizer.get_feature_names()[:10])"
      ],
      "execution_count": null,
      "outputs": []
    },
    {
      "cell_type": "code",
      "metadata": {
        "id": "wzfyFmioCGF5"
      },
      "source": [
        "def plot_confusion_matrix(cm, classes,\n",
        "                          normalize=False,\n",
        "                          title='Confusion matrix',\n",
        "                          cmap=plt.cm.Blues):\n",
        "\n",
        "    plt.imshow(cm, interpolation='nearest', cmap=cmap)\n",
        "    plt.title(title)\n",
        "    plt.colorbar()\n",
        "    tick_marks = np.arange(len(classes))\n",
        "    plt.xticks(tick_marks, classes, rotation=0)\n",
        "    plt.yticks(tick_marks, classes)\n",
        "\n",
        "    thresh = cm.max() / 2.\n",
        "    for i, j in itertools.product(range(cm.shape[0]), range(cm.shape[1])):\n",
        "        plt.text(j, i, cm[i, j],\n",
        "                 horizontalalignment=\"center\",\n",
        "                 color=\"white\" if cm[i, j] > thresh else \"black\")\n",
        "\n",
        "    plt.tight_layout()\n",
        "    plt.ylabel('True label')\n",
        "    plt.xlabel('Predicted label')\n",
        "    plt.tight_layout()\n",
        "    plt.show()"
      ],
      "execution_count": null,
      "outputs": []
    },
    {
      "cell_type": "markdown",
      "metadata": {
        "id": "b9I8TGAovb0e"
      },
      "source": [
        "# Naive-Bayes"
      ]
    },
    {
      "cell_type": "code",
      "metadata": {
        "id": "z7oi-qucCeDw"
      },
      "source": [
        "nb_classifier = MultinomialNB(alpha=0.1)\n",
        "nb_classifier.fit(tfidf_train, y_train)\n",
        "\n",
        "pred = nb_classifier.predict(tfidf_test)\n",
        "\n",
        "print(classification_report(y_test, pred))\n",
        "\n",
        "cm = metrics.confusion_matrix(y_test, pred, labels=['FALSE', 'TRUE', 'PARTIALLY FALSE', 'OTHER'])\n",
        "print('Confusion Matrix: ')\n",
        "print(cm)\n",
        "plot_confusion_matrix(cm, classes=['FALSE', 'TRUE', 'PARTIALLY', 'OTHER'])"
      ],
      "execution_count": null,
      "outputs": []
    },
    {
      "cell_type": "markdown",
      "metadata": {
        "id": "IQLkZu9IGsuG"
      },
      "source": [
        "# Alpha tuning for Naive-Bayes"
      ]
    },
    {
      "cell_type": "code",
      "metadata": {
        "id": "I7Y8NKoWGTDz"
      },
      "source": [
        "alphas = np.arange(0, 1, 0.1)\n",
        "\n",
        "def train_and_predict(alpha):\n",
        "    nb_classifier = MultinomialNB(alpha=alpha)\n",
        "    nb_classifier.fit(tfidf_train, y_train)\n",
        "    pred = nb_classifier.predict(tfidf_test)\n",
        "    score = metrics.accuracy_score(y_test, pred)\n",
        "    return score"
      ],
      "execution_count": null,
      "outputs": []
    },
    {
      "cell_type": "code",
      "metadata": {
        "id": "XiJwRRx7Geup"
      },
      "source": [
        "for alpha in alphas:\n",
        "    print('Alpha: ', alpha)\n",
        "    print('Score: ', train_and_predict(alpha))\n",
        "    print()"
      ],
      "execution_count": null,
      "outputs": []
    },
    {
      "cell_type": "markdown",
      "metadata": {
        "id": "4-FeYGqBG1C6"
      },
      "source": [
        "# Random Forest"
      ]
    },
    {
      "cell_type": "code",
      "metadata": {
        "id": "LWgP90_aG8kV"
      },
      "source": [
        "rf_classifier = RandomForestClassifier(verbose=True)\n",
        "\n",
        "rf_classifier.fit(tfidf_train, y_train)\n",
        "\n",
        "pred = rf_classifier.predict(tfidf_test)\n",
        "\n",
        "print(classification_report(y_test, pred))\n",
        "\n",
        "cm = metrics.confusion_matrix(y_test, pred, labels=['FALSE', 'TRUE', 'PARTIALLY FALSE', 'OTHER'])\n",
        "print('Confusion Matrix: ')\n",
        "print(cm)\n",
        "plot_confusion_matrix(cm, classes=['FALSE', 'TRUE', 'PARTIALLY', 'OTHER'])"
      ],
      "execution_count": null,
      "outputs": []
    },
    {
      "cell_type": "markdown",
      "metadata": {
        "id": "7RbNMQWwHShB"
      },
      "source": [
        "# Gradient Boosting"
      ]
    },
    {
      "cell_type": "code",
      "metadata": {
        "id": "xrt0MzziHZb6"
      },
      "source": [
        "gb_classifier = GradientBoostingClassifier(verbose=True)\n",
        "\n",
        "gb_classifier.fit(tfidf_train, y_train)\n",
        "\n",
        "pred = gb_classifier.predict(tfidf_test)\n",
        "\n",
        "print(classification_report(y_test, pred))\n",
        "\n",
        "cm = metrics.confusion_matrix(y_test, pred, labels=['FALSE', 'TRUE', 'PARTIALLY FALSE', 'OTHER'])\n",
        "print('Confusion Matrix: ')\n",
        "print(cm)\n",
        "plot_confusion_matrix(cm, classes=['FALSE', 'TRUE', 'PARTIALLY', 'OTHER'])"
      ],
      "execution_count": null,
      "outputs": []
    },
    {
      "cell_type": "markdown",
      "metadata": {
        "id": "1DxknwOHHw1Q"
      },
      "source": [
        "# POS Tagging"
      ]
    },
    {
      "cell_type": "code",
      "metadata": {
        "id": "E1dYadRJH2-u"
      },
      "source": [
        "nlp = spacy.load('en')\n",
        "\n",
        "pos_tags_column = []\n",
        "\n",
        "for text in sample['text']:\n",
        "    pos_tags = []\n",
        "    doc = nlp(text)\n",
        "    for token in doc:\n",
        "        pos_tags.append(token.pos_)\n",
        "    all_pos_tags = ' '.join(pos_tags)\n",
        "    pos_tags_column.append(all_pos_tags)\n",
        "    \n",
        "sample['POS_text'] = pos_tags_column\n",
        "\n",
        "sample.head()"
      ],
      "execution_count": null,
      "outputs": []
    },
    {
      "cell_type": "code",
      "metadata": {
        "id": "Gd4NZoVpKHZY"
      },
      "source": [
        "y = sample['our rating'].astype('str')\n",
        "\n",
        "X_train, X_test, y_train, y_test = train_test_split(sample['POS_text'], y, test_size = 0.2, random_state = 42)\n",
        "print(X_train.head())\n",
        "print(y_train.head())"
      ],
      "execution_count": null,
      "outputs": []
    },
    {
      "cell_type": "markdown",
      "metadata": {
        "id": "07qoh19ZKoUz"
      },
      "source": [
        "# TFIDF for POS_text"
      ]
    },
    {
      "cell_type": "code",
      "metadata": {
        "id": "dY5d6D7HKtoo"
      },
      "source": [
        "pos_tfidf_vectorizer = TfidfVectorizer(stop_words='english', ngram_range = (2,2))\n",
        "pos_tfidf_train = pos_tfidf_vectorizer.fit_transform(X_train.astype('str'))\n",
        "pos_tfidf_test= pos_tfidf_vectorizer.transform(X_test.astype('str'))\n",
        "pos_tfidf_vectorizer.get_feature_names()[:10]"
      ],
      "execution_count": null,
      "outputs": []
    },
    {
      "cell_type": "markdown",
      "metadata": {
        "id": "IpR0vZGmwzaW"
      },
      "source": [
        "# Naive-Bayes"
      ]
    },
    {
      "cell_type": "code",
      "metadata": {
        "id": "CWrLLKJMK4Je"
      },
      "source": [
        "nb_classifier = MultinomialNB(alpha=0.1)\n",
        "nb_classifier.fit(pos_tfidf_train, y_train)\n",
        "pred = nb_classifier.predict(pos_tfidf_test)\n",
        "\n",
        "print(classification_report(y_test, pred))\n",
        "\n",
        "# confusion matrix\n",
        "cm = metrics.confusion_matrix(y_test, pred, labels=['FALSE', 'TRUE', 'PARTIALLY FALSE', 'OTHER'])\n",
        "plot_confusion_matrix(cm, classes=['FALSE', 'TRUE', 'PARTIALLY', 'OTHER'])"
      ],
      "execution_count": null,
      "outputs": []
    },
    {
      "cell_type": "markdown",
      "metadata": {
        "id": "4htzy8Jfw2UB"
      },
      "source": [
        "# Random Forest"
      ]
    },
    {
      "cell_type": "code",
      "metadata": {
        "id": "iR88YqhWLGPA"
      },
      "source": [
        "rf_classifier = RandomForestClassifier(verbose=True)\n",
        "rf_classifier.fit(pos_tfidf_train, y_train)\n",
        "pred = rf_classifier.predict(pos_tfidf_test)\n",
        "\n",
        "print(classification_report(y_test, pred))\n",
        "\n",
        "cm = metrics.confusion_matrix(y_test, pred, labels=['FALSE', 'TRUE', 'PARTIALLY FALSE', 'OTHER'])\n",
        "plot_confusion_matrix(cm, classes=['FALSE', 'TRUE', 'PARTIALLY', 'OTHER'])"
      ],
      "execution_count": null,
      "outputs": []
    },
    {
      "cell_type": "markdown",
      "metadata": {
        "id": "scxREPA1w6DQ"
      },
      "source": [
        "# Gradient Boosting"
      ]
    },
    {
      "cell_type": "code",
      "metadata": {
        "id": "84LAnqj2LVUw"
      },
      "source": [
        "gb_classifier = GradientBoostingClassifier(verbose=True)\n",
        "gb_classifier.fit(pos_tfidf_train, y_train)\n",
        "pred = gb_classifier.predict(pos_tfidf_test)\n",
        "\n",
        "print(classification_report(y_test, pred))\n",
        "\n",
        "cm = metrics.confusion_matrix(y_test, pred, labels=['FALSE', 'TRUE', 'PARTIALLY FALSE', 'OTHER'])\n",
        "plot_confusion_matrix(cm, classes=['FALSE', 'TRUE', 'PARTIALLY', 'OTHER'])"
      ],
      "execution_count": null,
      "outputs": []
    },
    {
      "cell_type": "markdown",
      "metadata": {
        "id": "jxJsgcB1LlB3"
      },
      "source": [
        "# Semantic Analysis"
      ]
    },
    {
      "cell_type": "code",
      "metadata": {
        "id": "AhqfygpDLpXJ"
      },
      "source": [
        "lexicon = Empath()\n",
        "semantic = []\n",
        "count = 0\n",
        "\n",
        "for article in sample['text']:\n",
        "    d = lexicon.analyze(article, normalize=False)\n",
        "    x = []\n",
        "    for key, value in d.items():\n",
        "        x.append(value)\n",
        "    x = np.asarray(x)\n",
        "    semantic.append(x)\n",
        "sample['semantic_text'] = semantic\n",
        "print(sample['semantic_text'].head())"
      ],
      "execution_count": null,
      "outputs": []
    },
    {
      "cell_type": "code",
      "metadata": {
        "id": "M4SphAlYL83A"
      },
      "source": [
        "categories = []\n",
        "a = lexicon.analyze(\"\")\n",
        "for key, value in a.items():\n",
        "    categories.append(key)\n",
        "categories"
      ],
      "execution_count": null,
      "outputs": []
    },
    {
      "cell_type": "code",
      "metadata": {
        "id": "ah_NAoJ-MFv6"
      },
      "source": [
        "sem = []\n",
        "for i in range(sample.shape[0]):\n",
        "    a = []\n",
        "    for j in range(len(semantic[0])):\n",
        "        for k in range(int(semantic[i][j])):\n",
        "            a.append(categories[j])\n",
        "    b = \" \".join(a)\n",
        "    sem.append(b)\n",
        "sample['semantics_text'] = sem\n",
        "\n",
        "print(sample['semantics_text'].head())"
      ],
      "execution_count": null,
      "outputs": []
    },
    {
      "cell_type": "code",
      "metadata": {
        "id": "fpVhVG3QMhSu"
      },
      "source": [
        "y = sample['our rating'].astype('str')\n",
        "X_train, X_test, y_train, y_test = train_test_split(sample['semantics_text'], y, test_size = 0.2, random_state = 42)\n",
        "print(X_train.head())\n",
        "print(y_train.head())"
      ],
      "execution_count": null,
      "outputs": []
    },
    {
      "cell_type": "code",
      "metadata": {
        "id": "YmWTPl4HMuLG"
      },
      "source": [
        "sem_tfidf_vectorizer = TfidfVectorizer(stop_words='english', ngram_range=(1,1))\n",
        "sem_tfidf_train = sem_tfidf_vectorizer.fit_transform(X_train.astype('str'))\n",
        "sem_tfidf_test = sem_tfidf_vectorizer.transform(X_test.astype('str'))"
      ],
      "execution_count": null,
      "outputs": []
    },
    {
      "cell_type": "code",
      "metadata": {
        "id": "qxHjYCJGMyvu"
      },
      "source": [
        "nb_classifier = MultinomialNB(alpha=0.1)\n",
        "nb_classifier.fit(sem_tfidf_train, y_train)\n",
        "pred = nb_classifier.predict(sem_tfidf_test)\n",
        "\n",
        "print(classification_report(y_test, pred))\n",
        "\n",
        "cm = metrics.confusion_matrix(y_test, pred, labels=['FALSE', 'TRUE', 'PARTIALLY FALSE', 'OTHER'])\n",
        "plot_confusion_matrix(cm, classes=['FALSE', 'TRUE', 'PARTIALLY', 'OTHER'])"
      ],
      "execution_count": null,
      "outputs": []
    },
    {
      "cell_type": "code",
      "metadata": {
        "id": "VjR1CpoCNBjR"
      },
      "source": [
        "rf_classifier = RandomForestClassifier(verbose=True)\n",
        "rf_classifier.fit(sem_tfidf_train, y_train)\n",
        "pred = rf_classifier.predict(sem_tfidf_test)\n",
        "\n",
        "print(classification_report(y_test, pred))\n",
        "\n",
        "cm = metrics.confusion_matrix(y_test, pred, labels=['FALSE', 'TRUE', 'PARTIALLY FALSE', 'OTHER'])\n",
        "plot_confusion_matrix(cm, classes=['FALSE', 'TRUE', 'PARTIALLY', 'OTHER'])"
      ],
      "execution_count": null,
      "outputs": []
    },
    {
      "cell_type": "code",
      "metadata": {
        "id": "gcif59blNQDO"
      },
      "source": [
        "gb_classifier = GradientBoostingClassifier(verbose=True)\n",
        "gb_classifier.fit(sem_tfidf_train, y_train)\n",
        "pred = gb_classifier.predict(sem_tfidf_test)\n",
        "\n",
        "print(classification_report(y_test, pred))\n",
        "\n",
        "cm = metrics.confusion_matrix(y_test, pred, labels=['FALSE', 'TRUE', 'PARTIALLY FALSE', 'OTHER'])\n",
        "plot_confusion_matrix(cm, classes=['FALSE', 'TRUE', 'PARTIALLY', 'OTHER'])"
      ],
      "execution_count": null,
      "outputs": []
    },
    {
      "cell_type": "markdown",
      "metadata": {
        "id": "RujaFWa2NuhG"
      },
      "source": [
        "# Three-layer Classification"
      ]
    },
    {
      "cell_type": "code",
      "metadata": {
        "id": "FFSYIa3_OQ4T"
      },
      "source": [
        "print(sample.columns)\n",
        "print(sample.shape)\n",
        "\n",
        "X = sample.drop('our rating', axis = 1)\n",
        "\n",
        "print(X.columns)"
      ],
      "execution_count": null,
      "outputs": []
    },
    {
      "cell_type": "code",
      "metadata": {
        "id": "s-cUQnwkPOHu"
      },
      "source": [
        "y = sample['our rating']\n",
        "\n",
        "X_train, X_test, y_train, y_test = train_test_split(X, y, test_size = 0.2, random_state = 42)\n",
        "\n",
        "print(y)"
      ],
      "execution_count": null,
      "outputs": []
    },
    {
      "cell_type": "code",
      "metadata": {
        "id": "ANYi5uzRPxM3"
      },
      "source": [
        "X_train_text = X_train['clean_text']\n",
        "X_test_text = X_test['clean_text']\n",
        "\n",
        "X_train_POS = X_train['POS_text']\n",
        "X_test_POS = X_test['POS_text']\n",
        "\n",
        "X_train_sem = X_train['semantics_text']\n",
        "X_test_sem = X_test['semantics_text']"
      ],
      "execution_count": null,
      "outputs": []
    },
    {
      "cell_type": "code",
      "metadata": {
        "id": "RtTZI6upP7Rw"
      },
      "source": [
        "tfidf_vectorizer = TfidfVectorizer(stop_words='english', ngram_range = (1,3), max_features=20000)\n",
        "tfidf_train = tfidf_vectorizer.fit_transform(X_train_text.astype('str'))\n",
        "tfidf_test = tfidf_vectorizer.transform(X_test_text.astype('str'))"
      ],
      "execution_count": null,
      "outputs": []
    },
    {
      "cell_type": "code",
      "metadata": {
        "id": "L1iHNQUaQAq8"
      },
      "source": [
        "pos_tfidf_vectorizer = TfidfVectorizer(stop_words='english', ngram_range = (1,3), max_features=20000)\n",
        "pos_tfidf_train = pos_tfidf_vectorizer.fit_transform(X_train_POS.astype('str'))\n",
        "pos_tfidf_test = pos_tfidf_vectorizer.transform(X_test_POS.astype('str'))"
      ],
      "execution_count": null,
      "outputs": []
    },
    {
      "cell_type": "code",
      "metadata": {
        "id": "xnECGM6lQEY3"
      },
      "source": [
        "sem_tfidf_vectorizer = TfidfVectorizer(stop_words='english', ngram_range = (1,1), max_features=20000)\n",
        "sem_tfidf_train = sem_tfidf_vectorizer.fit_transform(X_train_sem.astype('str'))\n",
        "sem_tfidf_test = sem_tfidf_vectorizer.transform(X_test_sem.astype('str'))"
      ],
      "execution_count": null,
      "outputs": []
    },
    {
      "cell_type": "code",
      "metadata": {
        "id": "Nxv61LR9QL0m"
      },
      "source": [
        "text_w = 0.5 * 3\n",
        "pos_w = 0.15 * 3\n",
        "sem_w = 0.35 * 3\n",
        "\n",
        "tfidf_train *= text_w\n",
        "tfidf_test *= text_w\n",
        "pos_tfidf_train *= pos_w\n",
        "pos_tfidf_test *= pos_w\n",
        "sem_tfidf_train *= sem_w\n",
        "sem_tfidf_train *= sem_w"
      ],
      "execution_count": null,
      "outputs": []
    },
    {
      "cell_type": "code",
      "metadata": {
        "id": "LQ3dD0vzQWGP"
      },
      "source": [
        "diff_n_rows = pos_tfidf_train.shape[0] - tfidf_train.shape[0]\n",
        "b = sp.vstack((tfidf_train, sp.csr_matrix((diff_n_rows, tfidf_train.shape[1]))))\n",
        "c = sp.hstack((pos_tfidf_train, b))\n",
        "\n",
        "diff_n_rows = c.shape[0] - sem_tfidf_train.shape[0]\n",
        "b = sp.vstack((sem_tfidf_train, sp.csr_matrix((diff_n_rows, sem_tfidf_train.shape[1]))))\n",
        "\n",
        "X_train = sp.hstack((c, b))\n",
        "\n",
        "diff_n_rows = pos_tfidf_test.shape[0] - tfidf_test.shape[0]\n",
        "d = sp.vstack((tfidf_test, sp.csr_matrix((diff_n_rows, tfidf_test.shape[1]))))\n",
        "e = sp.hstack((pos_tfidf_test, d))\n",
        "\n",
        "diff_n_rows = e.shape[0] - sem_tfidf_test.shape[0]\n",
        "d = sp.vstack((sem_tfidf_test, sp.csr_matrix((diff_n_rows, sem_tfidf_test.shape[1]))))\n",
        "\n",
        "X_test = sp.hstack((e, d))"
      ],
      "execution_count": null,
      "outputs": []
    },
    {
      "cell_type": "markdown",
      "metadata": {
        "id": "rTn3-8vGxCcV"
      },
      "source": [
        "# Naive-Bayes"
      ]
    },
    {
      "cell_type": "code",
      "metadata": {
        "id": "gAXSkpXNQeZO"
      },
      "source": [
        "nb_classifier = MultinomialNB(alpha=0.1)\n",
        "nb_classifier.fit(X_train, y_train)\n",
        "pred = nb_classifier.predict(X_test)\n",
        "\n",
        "print(classification_report(y_test, pred))\n",
        "\n",
        "cm = metrics.confusion_matrix(y_test, pred, labels=['FALSE', 'TRUE', 'PARTIALLY FALSE', 'OTHER'])\n",
        "plot_confusion_matrix(cm, classes=['FALSE', 'TRUE', 'PARTIALLY', 'OTHER'])"
      ],
      "execution_count": null,
      "outputs": []
    },
    {
      "cell_type": "markdown",
      "metadata": {
        "id": "cP5p--hcxEel"
      },
      "source": [
        "# Random Forest"
      ]
    },
    {
      "cell_type": "code",
      "metadata": {
        "id": "F83eXGn5RVYB"
      },
      "source": [
        "rf_classifier = RandomForestClassifier()\n",
        "rf_classifier.fit(X_train, y_train)\n",
        "pred = rf_classifier.predict(X_test)\n",
        "\n",
        "print(classification_report(y_test, pred))\n",
        "\n",
        "cm = metrics.confusion_matrix(y_test, pred, labels=['FALSE', 'TRUE', 'PARTIALLY FALSE', 'OTHER'])\n",
        "plot_confusion_matrix(cm, classes=['FALSE', 'TRUE', 'PARTIALLY', 'OTHER'])"
      ],
      "execution_count": null,
      "outputs": []
    },
    {
      "cell_type": "markdown",
      "metadata": {
        "id": "_BgtB2QhxHY_"
      },
      "source": [
        "# Gradient Boosting"
      ]
    },
    {
      "cell_type": "code",
      "metadata": {
        "id": "VlWRUtTvRgjW"
      },
      "source": [
        "gb_classifier = GradientBoostingClassifier(verbose=True)\n",
        "gb_classifier.fit(X_train, y_train)\n",
        "pred = gb_classifier.predict(X_test)\n",
        "\n",
        "print(classification_report(y_test, pred))\n",
        "\n",
        "cm = metrics.confusion_matrix(y_test, pred, labels=['FALSE', 'TRUE', 'PARTIALLY FALSE', 'OTHER'])\n",
        "plot_confusion_matrix(cm, classes=['FALSE', 'TRUE', 'PARTIALLY', 'OTHER'])\n"
      ],
      "execution_count": null,
      "outputs": []
    }
  ]
}