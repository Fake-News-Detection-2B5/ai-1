{
  "nbformat": 4,
  "nbformat_minor": 0,
  "metadata": {
    "colab": {
      "name": "Run2.ipynb",
      "provenance": [],
      "collapsed_sections": []
    },
    "kernelspec": {
      "name": "python3",
      "display_name": "Python 3"
    },
    "language_info": {
      "name": "python"
    }
  },
  "cells": [
    {
      "cell_type": "code",
      "metadata": {
        "id": "G6mxiqXAjFv0"
      },
      "source": [
        "from random import randint\n",
        "import nltk\n",
        "import string\n",
        "import numpy as np\n",
        "import pandas as pd\n",
        "import seaborn as sns\n",
        "from sklearn import svm\n",
        "from nltk import tokenize\n",
        "from tensorflow import keras\n",
        "import matplotlib.pyplot as plt\n",
        "from wordcloud import WordCloud\n",
        "from nltk.corpus import stopwords\n",
        "from sklearn.naive_bayes import ComplementNB\n",
        "from sklearn.tree import DecisionTreeClassifier\n",
        "from sklearn.neighbors import KNeighborsClassifier\n",
        "from sklearn.model_selection import train_test_split, RandomizedSearchCV\n",
        "from keras.preprocessing.text import text_to_word_sequence\n",
        "from keras.preprocessing.text import Tokenizer\n",
        "from sklearn.metrics import classification_report, confusion_matrix\n",
        "from nltk import pos_tag\n",
        "from nltk.corpus import stopwords\n",
        "from collections import defaultdict\n",
        "from nltk.corpus import wordnet as wn\n",
        "from nltk.stem import WordNetLemmatizer\n",
        "from nltk.tokenize import word_tokenize\n",
        "\n",
        "data = pd.read_csv(\"sample.csv\", delimiter='\\t', encoding='utf-8')\n",
        "\n",
        "# Data Preparation\n",
        "\n",
        "# Removing id and title\n",
        "\n",
        "data.drop([\"title\"], axis=1, inplace=True)\n",
        "data.drop([\"public_id\"], axis=1, inplace=True)"
      ],
      "execution_count": null,
      "outputs": []
    },
    {
      "cell_type": "code",
      "metadata": {
        "id": "MTApiylzjPEp",
        "colab": {
          "base_uri": "https://localhost:8080/"
        },
        "outputId": "7c759573-da37-45dd-a23e-576e55c51f99"
      },
      "source": [
        "data['text'] = data['text'].apply(lambda x: x.lower())\n",
        "\n",
        "def punctuation_removal(text):\n",
        "    all_list = [char for char in text if char not in string.punctuation]\n",
        "    clean_str = ''.join(all_list)\n",
        "    return clean_str\n",
        "\n",
        "\n",
        "data['text'] = data['text'].apply(punctuation_removal)\n",
        "\n",
        "stop = stopwords.words('english')\n",
        "data['text'] = data['text'].apply(lambda x: ' '.join([word for word in x.split() if word not in stop]))\n",
        "\n",
        "\n",
        "def line_removal(text):\n",
        "    all_list = [char for char in text if char not in \"-–—_\"]\n",
        "    clean_str = ''.join(all_list)\n",
        "    return clean_str\n",
        "\n",
        "\n",
        "data['text'] = data['text'].apply(line_removal)\n",
        "\n",
        "data['text'] = [word_tokenize(entry) for entry in data['text']]\n",
        "\n",
        "tag_map = defaultdict(lambda: wn.NOUN)\n",
        "tag_map['ADJ'] = wn.ADJ\n",
        "tag_map['VERB'] = wn.VERB\n",
        "tag_map['ADV'] = wn.ADV\n",
        "\n",
        "for index, entry in enumerate(data['text']):\n",
        "    final_words = \"\"\n",
        "    word_lemmatized = WordNetLemmatizer()\n",
        "\n",
        "    for word, tag in pos_tag(entry):\n",
        "        if word not in stopwords.words('english') and word.isalpha():\n",
        "            final_word = word_lemmatized.lemmatize(word, tag_map[tag[0]])\n",
        "            final_words += final_word + \" \"\n",
        "\n",
        "    data.loc[index, 'text'] = final_words\n",
        "\n",
        "print(data['text'])\n",
        "\n",
        "tokenizer = Tokenizer()\n",
        "\n",
        "tokenizer.fit_on_texts(data['text'])\n",
        "\n",
        "encoded_docs_binary = tokenizer.texts_to_matrix(data['text'], mode=\"binary\")\n",
        "# print(encoded_docs_binary)\n",
        "\n",
        "encoded_docs_count = tokenizer.texts_to_matrix(data['text'], mode=\"count\")\n",
        "# print(encoded_docs_count)\n",
        "\n",
        "encoded_docs_freq = tokenizer.texts_to_matrix(data['text'], mode=\"freq\")\n",
        "# print(encoded_docs_freq)\n",
        "\n",
        "encoded_docs_tfidf = tokenizer.texts_to_matrix(data['text'], mode=\"tfidf\")\n",
        "# print(encoded_docs_tfidf)"
      ],
      "execution_count": null,
      "outputs": [
        {
          "output_type": "stream",
          "text": [
            "0     last week rep louie gohmert told chris salcedo...\n",
            "1     whatever drama play republican meet cleveland ...\n",
            "2     merchant democratrun city boarding storefront ...\n",
            "3     state dining room pm est president good aftern...\n",
            "4     natural news study published journal clinical ...\n",
            "5     latest breaking news martial law imminent gene...\n",
            "6     smoking could considered distraction road rule...\n",
            "7     gov scott walker said friday presidential camp...\n",
            "8     please share story dr russell blaylock warns f...\n",
            "9     knew joe biden vicepresidential pick going nra...\n",
            "10    article updated include context directive well...\n",
            "11    america never socialist country president trum...\n",
            "12    wisconsin trump failed response crushed farmer...\n",
            "13    vaccine manufacturer merck abandoned developme...\n",
            "14    u senator tammy baldwin stand wisconsin dairy ...\n",
            "15    washington dc narrowly winning aug special ele...\n",
            "16    united nation using coronavirus aid fund abort...\n",
            "17    hal turner chinese soldier bombed killed maine...\n",
            "18    home alone lost new york full violence opinion...\n",
            "19    rapid uncontrolled population growth feral swi...\n",
            "20    microsoft cofounder philanthropist bill gate r...\n",
            "21    november victim voter fraud initial announceme...\n",
            "22    trudeau bought mother car using charity fund a...\n",
            "23    albany gubernatorial candidate cynthia nixon s...\n",
            "24    comprehensive plan includes proposal restart l...\n",
            "25    special operation sof unit including deputized...\n",
            "26    texas state rep dan flynnr proposed bill calle...\n",
            "27    based actual result accounting state currently...\n",
            "28    one transfuse democracy tip sword say author a...\n",
            "29    wheeling least million week illegal drug cross...\n",
            "30    buffalo ny wkbw people stay home help stop spr...\n",
            "31    acosta batista introduce police reform legisla...\n",
            "32    editor note update since original article publ...\n",
            "33    update april pm bloomberg report ha avocado pr...\n",
            "34    throughout election donald trump battered ccp ...\n",
            "35    madison robin vos rrochester senate majority l...\n",
            "36    korean medical association called seoul stop f...\n",
            "37    really one biggest public health scandal decad...\n",
            "38    evans dueker take look st louis crime first ti...\n",
            "39    share share tweet blm pasted rule white folk a...\n",
            "40    canada building covid death camp process peopl...\n",
            "41    washington dc ohio treasurer josh mandel repub...\n",
            "42    democratic sen kamala harris california caught...\n",
            "43    cassandra fairbanks jim hoft tuesday november ...\n",
            "44    hour joe biden sworn admits testing grossly ov...\n",
            "45    today congressman glenn grothman released foll...\n",
            "46    deadliest mass shooting u history shocking sca...\n",
            "47    donald trump blame antiamerican riot unrest ke...\n",
            "48    panel formed consider proposed pay raise new y...\n",
            "49    trump confirms bombing accident immediately sc...\n",
            "Name: text, dtype: object\n"
          ],
          "name": "stdout"
        }
      ]
    },
    {
      "cell_type": "code",
      "metadata": {
        "id": "OhyseRqI41dO"
      },
      "source": [
        "for i in range(len(data['our rating'])):\n",
        "    if data['our rating'][i] == \"FALSE\":\n",
        "        data['our rating'][i] = 0\n",
        "    elif data['our rating'][i] == \"TRUE\":\n",
        "        data['our rating'][i] = 1\n",
        "    else:\n",
        "        data['our rating'][i] = 2\n",
        "\n",
        "data['our rating'] = data['our rating'].astype('int')"
      ],
      "execution_count": null,
      "outputs": []
    },
    {
      "cell_type": "code",
      "metadata": {
        "id": "e4yDsV2b46Xb",
        "colab": {
          "base_uri": "https://localhost:8080/"
        },
        "outputId": "c5396ce8-722e-45da-ecea-2911c956c613"
      },
      "source": [
        "for i in range(len(data['our rating'])):\n",
        "    if data['our rating'][i] == \"FALSE\":\n",
        "        data['our rating'][i] = 0\n",
        "    elif data['our rating'][i] == \"TRUE\":\n",
        "        data['our rating'][i] = 1\n",
        "    else:\n",
        "        data['our rating'][i] = 0\n",
        "\n",
        "data['our rating'] = data['our rating'].astype('int')"
      ],
      "execution_count": null,
      "outputs": [
        {
          "output_type": "stream",
          "text": [
            "/usr/local/lib/python3.7/dist-packages/ipykernel_launcher.py:7: SettingWithCopyWarning: \n",
            "A value is trying to be set on a copy of a slice from a DataFrame\n",
            "\n",
            "See the caveats in the documentation: https://pandas.pydata.org/pandas-docs/stable/user_guide/indexing.html#returning-a-view-versus-a-copy\n",
            "  import sys\n"
          ],
          "name": "stderr"
        }
      ]
    },
    {
      "cell_type": "code",
      "metadata": {
        "id": "dWJqPN22zx2a"
      },
      "source": [
        "x_train, x_test, y_train, y_test = train_test_split(encoded_docs_binary, data['our rating'], test_size=0.2)"
      ],
      "execution_count": null,
      "outputs": []
    },
    {
      "cell_type": "code",
      "metadata": {
        "id": "fDPLRzzKzz2b"
      },
      "source": [
        "x_train, x_test, y_train, y_test = train_test_split(encoded_docs_count, data['our rating'], test_size=0.2)"
      ],
      "execution_count": null,
      "outputs": []
    },
    {
      "cell_type": "code",
      "metadata": {
        "id": "-Ia3zgYlz0Wo"
      },
      "source": [
        "x_train, x_test, y_train, y_test = train_test_split(encoded_docs_freq, data['our rating'], test_size=0.2)"
      ],
      "execution_count": null,
      "outputs": []
    },
    {
      "cell_type": "code",
      "metadata": {
        "id": "dTxkW6pkz02z"
      },
      "source": [
        "x_train, x_test, y_train, y_test = train_test_split(encoded_docs_tfidf, data['our rating'], test_size=0.2)"
      ],
      "execution_count": null,
      "outputs": []
    },
    {
      "cell_type": "code",
      "metadata": {
        "id": "V-r89yW_kBJj",
        "colab": {
          "base_uri": "https://localhost:8080/"
        },
        "outputId": "585476a4-f03a-4436-e1d1-8014db1f4069"
      },
      "source": [
        "DT_params = RandomizedSearchCV(estimator=DecisionTreeClassifier(), param_distributions={\n",
        "    \"max_depth\": [1, 2, 3],\n",
        "    \"min_samples_split\": [2, 3, 4, 5]\n",
        "}, n_iter=12, n_jobs=-1)\n",
        "\n",
        "result = DT_params.fit(x_train, y_train)\n",
        "result2 = pd.DataFrame(result.cv_results_).loc[[result.best_index_]]\n",
        "\n",
        "my_decision_tree = DecisionTreeClassifier()\n",
        "\n",
        "my_decision_tree.fit(x_train, y_train)\n"
      ],
      "execution_count": null,
      "outputs": [
        {
          "output_type": "execute_result",
          "data": {
            "text/plain": [
              "DecisionTreeClassifier(ccp_alpha=0.0, class_weight=None, criterion='gini',\n",
              "                       max_depth=None, max_features=None, max_leaf_nodes=None,\n",
              "                       min_impurity_decrease=0.0, min_impurity_split=None,\n",
              "                       min_samples_leaf=1, min_samples_split=2,\n",
              "                       min_weight_fraction_leaf=0.0, presort='deprecated',\n",
              "                       random_state=None, splitter='best')"
            ]
          },
          "metadata": {
            "tags": []
          },
          "execution_count": 119
        }
      ]
    },
    {
      "cell_type": "code",
      "metadata": {
        "id": "LUM19qaNkY5t",
        "colab": {
          "base_uri": "https://localhost:8080/"
        },
        "outputId": "761f9700-96e0-4119-e11f-e291cf8b0553"
      },
      "source": [
        "result2['params']"
      ],
      "execution_count": null,
      "outputs": [
        {
          "output_type": "execute_result",
          "data": {
            "text/plain": [
              "4    {'min_samples_split': 2, 'max_depth': 2}\n",
              "Name: params, dtype: object"
            ]
          },
          "metadata": {
            "tags": []
          },
          "execution_count": 59
        }
      ]
    },
    {
      "cell_type": "code",
      "metadata": {
        "id": "Mp3LQv3hkj_P",
        "colab": {
          "base_uri": "https://localhost:8080/"
        },
        "outputId": "e4fafb7b-fc89-4ec2-ccb4-207a3caf73c0"
      },
      "source": [
        "my_decision_tree = DecisionTreeClassifier(max_depth = 2, min_samples_split = 2)\n",
        "my_decision_tree.fit(x_train, y_train)\n",
        "\n",
        "print(classification_report(y_test, my_decision_tree.predict(x_test), zero_division=0))"
      ],
      "execution_count": null,
      "outputs": [
        {
          "output_type": "stream",
          "text": [
            "              precision    recall  f1-score   support\n",
            "\n",
            "           0       1.00      1.00      1.00        10\n",
            "\n",
            "    accuracy                           1.00        10\n",
            "   macro avg       1.00      1.00      1.00        10\n",
            "weighted avg       1.00      1.00      1.00        10\n",
            "\n"
          ],
          "name": "stdout"
        }
      ]
    },
    {
      "cell_type": "code",
      "metadata": {
        "id": "FKwdOuHuoQKG",
        "colab": {
          "base_uri": "https://localhost:8080/",
          "height": 358
        },
        "outputId": "42c20442-6a5b-4252-d559-4ef5da2a263c"
      },
      "source": [
        "SVM_params = RandomizedSearchCV(estimator=svm.SVC(probability=True), param_distributions={\n",
        "    \"C\": [0.1, 0.2, 0.3, 0.4, 0.5, 1, 1.5, 2],\n",
        "    \"kernel\": [\"linear\", \"poly\", \"rbf\"]\n",
        "}, n_iter=24, n_jobs=-1)\n",
        "\n",
        "result3 = SVM_params.fit(x_train, y_train)\n",
        "result4 = pd.DataFrame(result3.cv_results_).loc[[result3.best_index_]]"
      ],
      "execution_count": null,
      "outputs": [
        {
          "output_type": "error",
          "ename": "ValueError",
          "evalue": "ignored",
          "traceback": [
            "\u001b[0;31m---------------------------------------------------------------------------\u001b[0m",
            "\u001b[0;31mValueError\u001b[0m                                Traceback (most recent call last)",
            "\u001b[0;32m<ipython-input-121-8bb9b42749c4>\u001b[0m in \u001b[0;36m<module>\u001b[0;34m()\u001b[0m\n\u001b[1;32m      4\u001b[0m }, n_iter=24, n_jobs=-1)\n\u001b[1;32m      5\u001b[0m \u001b[0;34m\u001b[0m\u001b[0m\n\u001b[0;32m----> 6\u001b[0;31m \u001b[0mresult3\u001b[0m \u001b[0;34m=\u001b[0m \u001b[0mSVM_params\u001b[0m\u001b[0;34m.\u001b[0m\u001b[0mfit\u001b[0m\u001b[0;34m(\u001b[0m\u001b[0mx_train\u001b[0m\u001b[0;34m,\u001b[0m \u001b[0my_train\u001b[0m\u001b[0;34m)\u001b[0m\u001b[0;34m\u001b[0m\u001b[0;34m\u001b[0m\u001b[0m\n\u001b[0m\u001b[1;32m      7\u001b[0m \u001b[0mresult4\u001b[0m \u001b[0;34m=\u001b[0m \u001b[0mpd\u001b[0m\u001b[0;34m.\u001b[0m\u001b[0mDataFrame\u001b[0m\u001b[0;34m(\u001b[0m\u001b[0mresult3\u001b[0m\u001b[0;34m.\u001b[0m\u001b[0mcv_results_\u001b[0m\u001b[0;34m)\u001b[0m\u001b[0;34m.\u001b[0m\u001b[0mloc\u001b[0m\u001b[0;34m[\u001b[0m\u001b[0;34m[\u001b[0m\u001b[0mresult3\u001b[0m\u001b[0;34m.\u001b[0m\u001b[0mbest_index_\u001b[0m\u001b[0;34m]\u001b[0m\u001b[0;34m]\u001b[0m\u001b[0;34m\u001b[0m\u001b[0;34m\u001b[0m\u001b[0m\n",
            "\u001b[0;32m/usr/local/lib/python3.7/dist-packages/sklearn/model_selection/_search.py\u001b[0m in \u001b[0;36mfit\u001b[0;34m(self, X, y, groups, **fit_params)\u001b[0m\n\u001b[1;32m    737\u001b[0m             \u001b[0mrefit_start_time\u001b[0m \u001b[0;34m=\u001b[0m \u001b[0mtime\u001b[0m\u001b[0;34m.\u001b[0m\u001b[0mtime\u001b[0m\u001b[0;34m(\u001b[0m\u001b[0;34m)\u001b[0m\u001b[0;34m\u001b[0m\u001b[0;34m\u001b[0m\u001b[0m\n\u001b[1;32m    738\u001b[0m             \u001b[0;32mif\u001b[0m \u001b[0my\u001b[0m \u001b[0;32mis\u001b[0m \u001b[0;32mnot\u001b[0m \u001b[0;32mNone\u001b[0m\u001b[0;34m:\u001b[0m\u001b[0;34m\u001b[0m\u001b[0;34m\u001b[0m\u001b[0m\n\u001b[0;32m--> 739\u001b[0;31m                 \u001b[0mself\u001b[0m\u001b[0;34m.\u001b[0m\u001b[0mbest_estimator_\u001b[0m\u001b[0;34m.\u001b[0m\u001b[0mfit\u001b[0m\u001b[0;34m(\u001b[0m\u001b[0mX\u001b[0m\u001b[0;34m,\u001b[0m \u001b[0my\u001b[0m\u001b[0;34m,\u001b[0m \u001b[0;34m**\u001b[0m\u001b[0mfit_params\u001b[0m\u001b[0;34m)\u001b[0m\u001b[0;34m\u001b[0m\u001b[0;34m\u001b[0m\u001b[0m\n\u001b[0m\u001b[1;32m    740\u001b[0m             \u001b[0;32melse\u001b[0m\u001b[0;34m:\u001b[0m\u001b[0;34m\u001b[0m\u001b[0;34m\u001b[0m\u001b[0m\n\u001b[1;32m    741\u001b[0m                 \u001b[0mself\u001b[0m\u001b[0;34m.\u001b[0m\u001b[0mbest_estimator_\u001b[0m\u001b[0;34m.\u001b[0m\u001b[0mfit\u001b[0m\u001b[0;34m(\u001b[0m\u001b[0mX\u001b[0m\u001b[0;34m,\u001b[0m \u001b[0;34m**\u001b[0m\u001b[0mfit_params\u001b[0m\u001b[0;34m)\u001b[0m\u001b[0;34m\u001b[0m\u001b[0;34m\u001b[0m\u001b[0m\n",
            "\u001b[0;32m/usr/local/lib/python3.7/dist-packages/sklearn/svm/_base.py\u001b[0m in \u001b[0;36mfit\u001b[0;34m(self, X, y, sample_weight)\u001b[0m\n\u001b[1;32m    147\u001b[0m                          \u001b[0morder\u001b[0m\u001b[0;34m=\u001b[0m\u001b[0;34m'C'\u001b[0m\u001b[0;34m,\u001b[0m \u001b[0maccept_sparse\u001b[0m\u001b[0;34m=\u001b[0m\u001b[0;34m'csr'\u001b[0m\u001b[0;34m,\u001b[0m\u001b[0;34m\u001b[0m\u001b[0;34m\u001b[0m\u001b[0m\n\u001b[1;32m    148\u001b[0m                          accept_large_sparse=False)\n\u001b[0;32m--> 149\u001b[0;31m         \u001b[0my\u001b[0m \u001b[0;34m=\u001b[0m \u001b[0mself\u001b[0m\u001b[0;34m.\u001b[0m\u001b[0m_validate_targets\u001b[0m\u001b[0;34m(\u001b[0m\u001b[0my\u001b[0m\u001b[0;34m)\u001b[0m\u001b[0;34m\u001b[0m\u001b[0;34m\u001b[0m\u001b[0m\n\u001b[0m\u001b[1;32m    150\u001b[0m \u001b[0;34m\u001b[0m\u001b[0m\n\u001b[1;32m    151\u001b[0m         sample_weight = np.asarray([]\n",
            "\u001b[0;32m/usr/local/lib/python3.7/dist-packages/sklearn/svm/_base.py\u001b[0m in \u001b[0;36m_validate_targets\u001b[0;34m(self, y)\u001b[0m\n\u001b[1;32m    529\u001b[0m             raise ValueError(\n\u001b[1;32m    530\u001b[0m                 \u001b[0;34m\"The number of classes has to be greater than one; got %d\"\u001b[0m\u001b[0;34m\u001b[0m\u001b[0;34m\u001b[0m\u001b[0m\n\u001b[0;32m--> 531\u001b[0;31m                 \" class\" % len(cls))\n\u001b[0m\u001b[1;32m    532\u001b[0m \u001b[0;34m\u001b[0m\u001b[0m\n\u001b[1;32m    533\u001b[0m         \u001b[0mself\u001b[0m\u001b[0;34m.\u001b[0m\u001b[0mclasses_\u001b[0m \u001b[0;34m=\u001b[0m \u001b[0mcls\u001b[0m\u001b[0;34m\u001b[0m\u001b[0;34m\u001b[0m\u001b[0m\n",
            "\u001b[0;31mValueError\u001b[0m: The number of classes has to be greater than one; got 1 class"
          ]
        }
      ]
    },
    {
      "cell_type": "code",
      "metadata": {
        "colab": {
          "base_uri": "https://localhost:8080/"
        },
        "id": "YZLJe_LuqFJu",
        "outputId": "e8be86bc-971f-41e6-e289-c4d6cd69e516"
      },
      "source": [
        "result4[\"params\"]"
      ],
      "execution_count": null,
      "outputs": [
        {
          "output_type": "execute_result",
          "data": {
            "text/plain": [
              "0    {'kernel': 'linear', 'C': 0.1}\n",
              "Name: params, dtype: object"
            ]
          },
          "metadata": {
            "tags": []
          },
          "execution_count": 111
        }
      ]
    },
    {
      "cell_type": "code",
      "metadata": {
        "colab": {
          "base_uri": "https://localhost:8080/",
          "height": 358
        },
        "id": "JNSiLnRfwEKr",
        "outputId": "77393c71-1fb2-456c-fe10-238898271280"
      },
      "source": [
        "my_svm = svm.SVC(probability = True, C = 0.1, kernel = \"linear\")\n",
        "my_svm.fit(x_train, y_train)\n",
        "\n",
        "print(classification_report(y_test, my_svm.predict(x_test), zero_division=0))"
      ],
      "execution_count": null,
      "outputs": [
        {
          "output_type": "error",
          "ename": "ValueError",
          "evalue": "ignored",
          "traceback": [
            "\u001b[0;31m---------------------------------------------------------------------------\u001b[0m",
            "\u001b[0;31mValueError\u001b[0m                                Traceback (most recent call last)",
            "\u001b[0;32m<ipython-input-122-46bd207b6e95>\u001b[0m in \u001b[0;36m<module>\u001b[0;34m()\u001b[0m\n\u001b[1;32m      1\u001b[0m \u001b[0mmy_svm\u001b[0m \u001b[0;34m=\u001b[0m \u001b[0msvm\u001b[0m\u001b[0;34m.\u001b[0m\u001b[0mSVC\u001b[0m\u001b[0;34m(\u001b[0m\u001b[0mprobability\u001b[0m \u001b[0;34m=\u001b[0m \u001b[0;32mTrue\u001b[0m\u001b[0;34m,\u001b[0m \u001b[0mC\u001b[0m \u001b[0;34m=\u001b[0m \u001b[0;36m0.1\u001b[0m\u001b[0;34m,\u001b[0m \u001b[0mkernel\u001b[0m \u001b[0;34m=\u001b[0m \u001b[0;34m\"linear\"\u001b[0m\u001b[0;34m)\u001b[0m\u001b[0;34m\u001b[0m\u001b[0;34m\u001b[0m\u001b[0m\n\u001b[0;32m----> 2\u001b[0;31m \u001b[0mmy_svm\u001b[0m\u001b[0;34m.\u001b[0m\u001b[0mfit\u001b[0m\u001b[0;34m(\u001b[0m\u001b[0mx_train\u001b[0m\u001b[0;34m,\u001b[0m \u001b[0my_train\u001b[0m\u001b[0;34m)\u001b[0m\u001b[0;34m\u001b[0m\u001b[0;34m\u001b[0m\u001b[0m\n\u001b[0m\u001b[1;32m      3\u001b[0m \u001b[0;34m\u001b[0m\u001b[0m\n\u001b[1;32m      4\u001b[0m \u001b[0mprint\u001b[0m\u001b[0;34m(\u001b[0m\u001b[0mclassification_report\u001b[0m\u001b[0;34m(\u001b[0m\u001b[0my_test\u001b[0m\u001b[0;34m,\u001b[0m \u001b[0mmy_svm\u001b[0m\u001b[0;34m.\u001b[0m\u001b[0mpredict\u001b[0m\u001b[0;34m(\u001b[0m\u001b[0mx_test\u001b[0m\u001b[0;34m)\u001b[0m\u001b[0;34m,\u001b[0m \u001b[0mzero_division\u001b[0m\u001b[0;34m=\u001b[0m\u001b[0;36m0\u001b[0m\u001b[0;34m)\u001b[0m\u001b[0;34m)\u001b[0m\u001b[0;34m\u001b[0m\u001b[0;34m\u001b[0m\u001b[0m\n",
            "\u001b[0;32m/usr/local/lib/python3.7/dist-packages/sklearn/svm/_base.py\u001b[0m in \u001b[0;36mfit\u001b[0;34m(self, X, y, sample_weight)\u001b[0m\n\u001b[1;32m    147\u001b[0m                          \u001b[0morder\u001b[0m\u001b[0;34m=\u001b[0m\u001b[0;34m'C'\u001b[0m\u001b[0;34m,\u001b[0m \u001b[0maccept_sparse\u001b[0m\u001b[0;34m=\u001b[0m\u001b[0;34m'csr'\u001b[0m\u001b[0;34m,\u001b[0m\u001b[0;34m\u001b[0m\u001b[0;34m\u001b[0m\u001b[0m\n\u001b[1;32m    148\u001b[0m                          accept_large_sparse=False)\n\u001b[0;32m--> 149\u001b[0;31m         \u001b[0my\u001b[0m \u001b[0;34m=\u001b[0m \u001b[0mself\u001b[0m\u001b[0;34m.\u001b[0m\u001b[0m_validate_targets\u001b[0m\u001b[0;34m(\u001b[0m\u001b[0my\u001b[0m\u001b[0;34m)\u001b[0m\u001b[0;34m\u001b[0m\u001b[0;34m\u001b[0m\u001b[0m\n\u001b[0m\u001b[1;32m    150\u001b[0m \u001b[0;34m\u001b[0m\u001b[0m\n\u001b[1;32m    151\u001b[0m         sample_weight = np.asarray([]\n",
            "\u001b[0;32m/usr/local/lib/python3.7/dist-packages/sklearn/svm/_base.py\u001b[0m in \u001b[0;36m_validate_targets\u001b[0;34m(self, y)\u001b[0m\n\u001b[1;32m    529\u001b[0m             raise ValueError(\n\u001b[1;32m    530\u001b[0m                 \u001b[0;34m\"The number of classes has to be greater than one; got %d\"\u001b[0m\u001b[0;34m\u001b[0m\u001b[0;34m\u001b[0m\u001b[0m\n\u001b[0;32m--> 531\u001b[0;31m                 \" class\" % len(cls))\n\u001b[0m\u001b[1;32m    532\u001b[0m \u001b[0;34m\u001b[0m\u001b[0m\n\u001b[1;32m    533\u001b[0m         \u001b[0mself\u001b[0m\u001b[0;34m.\u001b[0m\u001b[0mclasses_\u001b[0m \u001b[0;34m=\u001b[0m \u001b[0mcls\u001b[0m\u001b[0;34m\u001b[0m\u001b[0;34m\u001b[0m\u001b[0m\n",
            "\u001b[0;31mValueError\u001b[0m: The number of classes has to be greater than one; got 1 class"
          ]
        }
      ]
    },
    {
      "cell_type": "code",
      "metadata": {
        "colab": {
          "base_uri": "https://localhost:8080/"
        },
        "id": "BNKd8P1RwOHg",
        "outputId": "d3178547-9111-4425-c4bb-9a8159b29a2e"
      },
      "source": [
        "my_nb = ComplementNB()\n",
        "my_nb.fit(x_train, y_train)\n",
        "\n",
        "print(classification_report(y_test, my_nb.predict(x_test), zero_division=0))"
      ],
      "execution_count": null,
      "outputs": [
        {
          "output_type": "stream",
          "text": [
            "              precision    recall  f1-score   support\n",
            "\n",
            "           0       0.67      0.50      0.57         4\n",
            "           1       0.60      1.00      0.75         3\n",
            "           2       0.50      0.33      0.40         3\n",
            "\n",
            "    accuracy                           0.60        10\n",
            "   macro avg       0.59      0.61      0.57        10\n",
            "weighted avg       0.60      0.60      0.57        10\n",
            "\n"
          ],
          "name": "stdout"
        }
      ]
    },
    {
      "cell_type": "code",
      "metadata": {
        "id": "scw6IQPOx-Wc"
      },
      "source": [
        "KNN_params = RandomizedSearchCV(estimator=KNeighborsClassifier(), param_distributions={\n",
        "    \"leaf_size\": list(range(1, 50)),\n",
        "    \"n_neighbors\": list(range(1, 30)),\n",
        "    \"p\": [1, 2]\n",
        "}, n_iter=50, n_jobs=-1)\n",
        "\n",
        "result5 = KNN_params.fit(x_train, y_train)\n",
        "result6 = pd.DataFrame(result5.cv_results_).loc[[result5.best_index_]]"
      ],
      "execution_count": null,
      "outputs": []
    },
    {
      "cell_type": "code",
      "metadata": {
        "colab": {
          "base_uri": "https://localhost:8080/"
        },
        "id": "PER_sq0RyxMN",
        "outputId": "f94bfcd7-316e-4ae7-f9e4-1e04bc6e9823"
      },
      "source": [
        "result6[\"params\"]"
      ],
      "execution_count": null,
      "outputs": [
        {
          "output_type": "execute_result",
          "data": {
            "text/plain": [
              "1    {'p': 2, 'n_neighbors': 12, 'leaf_size': 40}\n",
              "Name: params, dtype: object"
            ]
          },
          "metadata": {
            "tags": []
          },
          "execution_count": 115
        }
      ]
    },
    {
      "cell_type": "code",
      "metadata": {
        "colab": {
          "base_uri": "https://localhost:8080/"
        },
        "id": "CYpkSUknzRHS",
        "outputId": "f2323846-dff7-4ebd-818a-4e47a43e404b"
      },
      "source": [
        "my_knn = KNeighborsClassifier(p = 2, n_neighbors = 12, leaf_size = 40)\n",
        "my_knn.fit(x_train, y_train)\n",
        "\n",
        "print(classification_report(y_test, my_knn.predict(x_test), zero_division=0))"
      ],
      "execution_count": null,
      "outputs": [
        {
          "output_type": "stream",
          "text": [
            "              precision    recall  f1-score   support\n",
            "\n",
            "           0       0.40      1.00      0.57         4\n",
            "           1       0.00      0.00      0.00         3\n",
            "           2       0.00      0.00      0.00         3\n",
            "\n",
            "    accuracy                           0.40        10\n",
            "   macro avg       0.13      0.33      0.19        10\n",
            "weighted avg       0.16      0.40      0.23        10\n",
            "\n"
          ],
          "name": "stdout"
        }
      ]
    },
    {
      "cell_type": "code",
      "metadata": {
        "colab": {
          "base_uri": "https://localhost:8080/",
          "height": 330
        },
        "id": "fICs_gkk4t5l",
        "outputId": "56daab2b-1915-4adb-ca19-bf93487e9532"
      },
      "source": [
        "from sklearn.metrics import roc_curve, roc_auc_score\n",
        "a, b, c = roc_curve(y_test, my_decision_tree.predict_proba(x_test)[:,1])\n",
        "a1, b1, c1 = roc_curve(y_test, my_nb.predict_proba(x_test)[:,1])\n",
        "a2, b2, c2 = roc_curve(y_test, my_knn.predict_proba(x_test)[:,1])\n",
        "\n",
        "plt.plot(a, b)\n",
        "plt.plot(a1, b1)\n",
        "plt.plot(a2, b2)\n",
        "\n",
        "plt.legend([\"DT\", \"NB\", \"KNN\"])\n",
        "plt.xlabel(\"false-positive rate\")\n",
        "plt.ylabel(\"true-positive rate\")\n",
        "plt.show()\n",
        "\n",
        "print(\"AUC for DT: %f\" % roc_auc_score(y_test, my_decision_tree.predict_proba(x_test)[:,1]))\n",
        "print(\"AUC for NB: %f\" % roc_auc_score(y_test, my_nb.predict_proba(x_test)[:,1]))\n",
        "print(\"AUC for KNN: %f\" % roc_auc_score(y_test, my_knn.predict_proba(x_test)[:,1]))"
      ],
      "execution_count": null,
      "outputs": [
        {
          "output_type": "display_data",
          "data": {
            "image/png": "[encoded data removed]",
            "text/plain": [
              "<Figure size 432x288 with 1 Axes>"
            ]
          },
          "metadata": {
            "tags": [],
            "needs_background": "light"
          }
        },
        {
          "output_type": "stream",
          "text": [
            "AUC for DT: 0.687500\n",
            "AUC for NB: 0.625000\n",
            "AUC for KNN: 0.375000\n"
          ],
          "name": "stdout"
        }
      ]
    }
  ]
}